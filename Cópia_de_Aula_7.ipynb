{
  "nbformat": 4,
  "nbformat_minor": 0,
  "metadata": {
    "colab": {
      "provenance": [],
      "collapsed_sections": [
        "W2M9yEM86zXn",
        "S_KKebj_633j",
        "Wut8GtI07BC_",
        "ZNLIDt8QRorn",
        "1Wgz2-Tv9qrt",
        "b7zyg54E0mjB",
        "KEpQhoHS36Wx"
      ]
    },
    "kernelspec": {
      "name": "python3",
      "display_name": "Python 3"
    },
    "language_info": {
      "name": "python"
    }
  },
  "cells": [
    {
      "cell_type": "markdown",
      "source": [
        "##Funções"
      ],
      "metadata": {
        "id": "W2M9yEM86zXn"
      }
    },
    {
      "cell_type": "markdown",
      "source": [
        "###Funções sem parâmetros"
      ],
      "metadata": {
        "id": "S_KKebj_633j"
      }
    },
    {
      "cell_type": "code",
      "source": [
        "def saudacao():\n",
        "    print(\"Olá, Mundo!\")"
      ],
      "metadata": {
        "id": "GUv04KAA63ca"
      },
      "execution_count": null,
      "outputs": []
    },
    {
      "cell_type": "code",
      "source": [
        "saudacao()"
      ],
      "metadata": {
        "id": "1n6RJJqzQHjN",
        "colab": {
          "base_uri": "https://localhost:8080/"
        },
        "outputId": "c8a3e404-5293-4222-b78e-192fb3edaf97"
      },
      "execution_count": null,
      "outputs": [
        {
          "output_type": "stream",
          "name": "stdout",
          "text": [
            "Olá, Mundo!\n"
          ]
        }
      ]
    },
    {
      "cell_type": "code",
      "source": [
        "def bem_vindo():\n",
        "    print(\"Bem-vindo ao curso de Python!\")"
      ],
      "metadata": {
        "id": "NNJQ0_ypQ3Tf"
      },
      "execution_count": null,
      "outputs": []
    },
    {
      "cell_type": "code",
      "source": [
        "# Chamando a função\n",
        "bem_vindo()"
      ],
      "metadata": {
        "id": "7XAvffSxQ6iW",
        "colab": {
          "base_uri": "https://localhost:8080/"
        },
        "outputId": "dc50ad45-3298-4444-f45c-d11890864639"
      },
      "execution_count": null,
      "outputs": [
        {
          "output_type": "stream",
          "name": "stdout",
          "text": [
            "Bem-vindo ao curso de Python!\n"
          ]
        }
      ]
    },
    {
      "cell_type": "markdown",
      "source": [
        "### Funções com parâmetros"
      ],
      "metadata": {
        "id": "Wut8GtI07BC_"
      }
    },
    {
      "cell_type": "code",
      "source": [
        "def saudacao(nome):\n",
        "    print(f\"Olá, {nome}!\")"
      ],
      "metadata": {
        "id": "tZ36l5-M9p2m"
      },
      "execution_count": null,
      "outputs": []
    },
    {
      "cell_type": "code",
      "source": [
        "saudacao(\"Ana\")\n"
      ],
      "metadata": {
        "id": "qqUcHWNjQQjf",
        "colab": {
          "base_uri": "https://localhost:8080/"
        },
        "outputId": "22bfb74a-61e2-4b12-e12d-579653834a84"
      },
      "execution_count": null,
      "outputs": [
        {
          "output_type": "stream",
          "name": "stdout",
          "text": [
            "Olá, Ana!\n"
          ]
        }
      ]
    },
    {
      "cell_type": "code",
      "source": [
        "def cumprimenta_usuario(nome):\n",
        "    print(f\"Olá, {nome}! Como você está hoje?\")"
      ],
      "metadata": {
        "id": "SNVEZHonQsT-"
      },
      "execution_count": null,
      "outputs": []
    },
    {
      "cell_type": "code",
      "source": [
        "# Chamando a função com diferentes argumentos\n",
        "cumprimenta_usuario(\"Pedro\")\n",
        "cumprimenta_usuario(\"Maria\")"
      ],
      "metadata": {
        "id": "tMaXQV5mQvR5",
        "colab": {
          "base_uri": "https://localhost:8080/"
        },
        "outputId": "24007609-dc67-4c84-9fa0-2f608cbe55a3"
      },
      "execution_count": null,
      "outputs": [
        {
          "output_type": "stream",
          "name": "stdout",
          "text": [
            "Olá, Pedro! Como você está hoje?\n",
            "Olá, Maria! Como você está hoje?\n"
          ]
        }
      ]
    },
    {
      "cell_type": "markdown",
      "source": [
        "###Função com Parâmetros Padrão"
      ],
      "metadata": {
        "id": "ZNLIDt8QRorn"
      }
    },
    {
      "cell_type": "code",
      "source": [
        "def saudacao(nome, mensagem=\"Olá\"):\n",
        "    print(f\"{mensagem}, {nome}!\")"
      ],
      "metadata": {
        "id": "1hv5_L5LRkdF"
      },
      "execution_count": null,
      "outputs": []
    },
    {
      "cell_type": "code",
      "source": [
        "# Chamando a função com e sem o argumento opcional\n",
        "saudacao(\"João\")\n",
        "saudacao(\"Ana\", \"Bom dia\")"
      ],
      "metadata": {
        "id": "-iSlrl-vRrXs",
        "colab": {
          "base_uri": "https://localhost:8080/"
        },
        "outputId": "3b62f6b0-46bd-4d3f-d860-fba07f03423f"
      },
      "execution_count": null,
      "outputs": [
        {
          "output_type": "stream",
          "name": "stdout",
          "text": [
            "Olá, João!\n",
            "Bom dia, Ana!\n"
          ]
        }
      ]
    },
    {
      "cell_type": "markdown",
      "source": [
        "###Funções com retorno"
      ],
      "metadata": {
        "id": "1Wgz2-Tv9qrt"
      }
    },
    {
      "cell_type": "code",
      "source": [
        "def soma(a, b):\n",
        "    return a + b"
      ],
      "metadata": {
        "id": "I7pN00ZLCYDr"
      },
      "execution_count": null,
      "outputs": []
    },
    {
      "cell_type": "code",
      "source": [
        "resultado = soma(3, 4)\n",
        "print(resultado)"
      ],
      "metadata": {
        "id": "5dCqtEuZQeN4",
        "colab": {
          "base_uri": "https://localhost:8080/"
        },
        "outputId": "0cee6f49-0114-4155-abcf-fd4a4da968a8"
      },
      "execution_count": null,
      "outputs": [
        {
          "output_type": "stream",
          "name": "stdout",
          "text": [
            "7\n"
          ]
        }
      ]
    },
    {
      "cell_type": "code",
      "source": [
        "def multiplicar(a, b):\n",
        "    return a * b"
      ],
      "metadata": {
        "id": "gd3GxV7oRDKa"
      },
      "execution_count": null,
      "outputs": []
    },
    {
      "cell_type": "code",
      "source": [
        "# Chamando a função e armazenando o resultado\n",
        "resultado = multiplicar(6, 7) * 2\n",
        "resultado"
      ],
      "metadata": {
        "id": "u1KO3fA6RGI9",
        "colab": {
          "base_uri": "https://localhost:8080/"
        },
        "outputId": "a22c87ef-84c1-4d1b-a637-eb3aec349080"
      },
      "execution_count": null,
      "outputs": [
        {
          "output_type": "execute_result",
          "data": {
            "text/plain": [
              "84"
            ]
          },
          "metadata": {},
          "execution_count": 14
        }
      ]
    },
    {
      "cell_type": "markdown",
      "source": [
        "###Exemplos"
      ],
      "metadata": {
        "id": "b7zyg54E0mjB"
      }
    },
    {
      "cell_type": "markdown",
      "source": [
        "Exemplo 1"
      ],
      "metadata": {
        "id": "cyeuAz8A1hzZ"
      }
    },
    {
      "cell_type": "code",
      "source": [
        "def calcular_area_retangulo(largura, altura):\n",
        "    return largura * altura\n",
        "\n",
        "\n"
      ],
      "metadata": {
        "id": "3sN1-aGT0mHW"
      },
      "execution_count": null,
      "outputs": []
    },
    {
      "cell_type": "code",
      "source": [
        "area = calcular_area_retangulo(5, 10)\n",
        "area * 2"
      ],
      "metadata": {
        "id": "ixLdId8s3TPh",
        "colab": {
          "base_uri": "https://localhost:8080/"
        },
        "outputId": "ce8f0be2-1581-46f1-bfba-0d3f3c34020e"
      },
      "execution_count": null,
      "outputs": [
        {
          "output_type": "execute_result",
          "data": {
            "text/plain": [
              "100"
            ]
          },
          "metadata": {},
          "execution_count": 16
        }
      ]
    },
    {
      "cell_type": "markdown",
      "source": [
        "Exemplo 2"
      ],
      "metadata": {
        "id": "1ryYYK3n3bhK"
      }
    },
    {
      "cell_type": "code",
      "source": [
        "def tabela_multiplicacao(numero):\n",
        "    \"\"\"\n",
        "    Função que imprime a tabela de multiplicação para o número fornecido.\n",
        "    \"\"\"\n",
        "    print(f\"Tabela de Multiplicação do {numero}:\")\n",
        "    for i in range(1, 11):  # De 1 a 10\n",
        "        resultado = numero * i\n",
        "        print(f\"{numero} x {i} = {resultado}\")"
      ],
      "metadata": {
        "id": "Vsxnii9a00kk"
      },
      "execution_count": null,
      "outputs": []
    },
    {
      "cell_type": "code",
      "source": [
        "# Solicitando ao usuário um número\n",
        "numero_usuario = int(input(\"Digite um número para ver sua tabela de multiplicação: \"))\n",
        "\n",
        "# Chamando a função\n",
        "tabela_multiplicacao(numero_usuario)"
      ],
      "metadata": {
        "id": "PxOZnZHG09Bg",
        "colab": {
          "base_uri": "https://localhost:8080/"
        },
        "outputId": "2a67e167-1acb-4b39-a80e-e1cba1455a5a"
      },
      "execution_count": null,
      "outputs": [
        {
          "output_type": "stream",
          "name": "stdout",
          "text": [
            "Digite um número para ver sua tabela de multiplicação: 6\n",
            "Tabela de Multiplicação do 6:\n",
            "6 x 1 = 6\n",
            "6 x 2 = 12\n",
            "6 x 3 = 18\n",
            "6 x 4 = 24\n",
            "6 x 5 = 30\n",
            "6 x 6 = 36\n",
            "6 x 7 = 42\n",
            "6 x 8 = 48\n",
            "6 x 9 = 54\n",
            "6 x 10 = 60\n"
          ]
        }
      ]
    },
    {
      "cell_type": "markdown",
      "source": [
        "Exemplo 3"
      ],
      "metadata": {
        "id": "rpLlvsuh3lPA"
      }
    },
    {
      "cell_type": "code",
      "source": [
        "def calcular_desconto(valor_total):\n",
        "    \"\"\"\n",
        "    Função que calcula o valor do desconto baseado no valor total da compra.\n",
        "    - Até R$100,00: 5% de desconto\n",
        "    - Entre R$100,01 e R$500,00: 10% de desconto\n",
        "    - Acima de R$500,00: 15% de desconto\n",
        "    \"\"\"\n",
        "    if valor_total <= 100:\n",
        "        desconto = valor_total * 0.05\n",
        "    elif valor_total <= 500:\n",
        "        desconto = valor_total * 0.10\n",
        "    else:\n",
        "        desconto = valor_total * 0.15\n",
        "\n",
        "    return desconto"
      ],
      "metadata": {
        "id": "DcYDolZ01RmY"
      },
      "execution_count": null,
      "outputs": []
    },
    {
      "cell_type": "code",
      "source": [
        "# Solicitando ao usuário o valor total da compra\n",
        "valor_compra = float(input(\"Digite o valor total da compra: R$\"))\n",
        "\n",
        "# Chamando a função e armazenando o resultado\n",
        "valor_desconto = calcular_desconto(valor_compra)\n",
        "\n",
        "# Exibindo o resultado\n",
        "print(f\"O valor do desconto para uma compra de R${valor_compra:.2f} é R${valor_desconto:.2f}.\")"
      ],
      "metadata": {
        "id": "W_d28EMf1UYu",
        "colab": {
          "base_uri": "https://localhost:8080/"
        },
        "outputId": "4974ed25-7e04-4e74-9a96-c790ad671cc8"
      },
      "execution_count": null,
      "outputs": [
        {
          "output_type": "stream",
          "name": "stdout",
          "text": [
            "Digite o valor total da compra: R$56\n",
            "O valor do desconto para uma compra de R$56.00 é R$2.80.\n"
          ]
        }
      ]
    },
    {
      "cell_type": "markdown",
      "source": [
        "## Exercícios"
      ],
      "metadata": {
        "id": "KEpQhoHS36Wx"
      }
    },
    {
      "cell_type": "markdown",
      "source": [
        "Exercício 1\n",
        "\n",
        "Você está criando um pequeno programa para calcular o preço final de um produto, incluindo um imposto de 8%. Crie uma função que receba o preço base do produto e retorne o preço final com o imposto.\n",
        "\n",
        "![image.png](data:image/png;base64,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)"
      ],
      "metadata": {
        "id": "r_Z9-Agd39LI"
      }
    },
    {
      "cell_type": "code",
      "source": [
        "def calcular_preco_final(preco_base):\n",
        "  imposto = preco_base * 0.08\n",
        "  preco_final = preco_base + imposto\n",
        "  return preco_final\n"
      ],
      "metadata": {
        "id": "pRY5GZwv8Nkq"
      },
      "execution_count": null,
      "outputs": []
    },
    {
      "cell_type": "code",
      "source": [
        "  preco_base = float(input('Digite o preço base do produto: '))\n",
        "  print(f'O preço final do produto é: {calcular_preco_final(preco_base)}')"
      ],
      "metadata": {
        "colab": {
          "base_uri": "https://localhost:8080/"
        },
        "id": "b8VU3zU-WzRt",
        "outputId": "ae72123e-6d8b-4bba-eb28-536ed2c8d3a0"
      },
      "execution_count": null,
      "outputs": [
        {
          "output_type": "stream",
          "name": "stdout",
          "text": [
            "Digite o preço base do produto: 20\n",
            "O preço final do produto é: 21.6\n"
          ]
        }
      ]
    },
    {
      "cell_type": "markdown",
      "source": [
        "Exercício 2\n",
        "\n",
        "Você deseja criar um programa que converta uma temperatura fornecida em graus Celsius para Fahrenheit. Crie uma função que receba a temperatura em Celsius e retorne a temperatura convertida para Fahrenheit.\n",
        "\n",
        "![image.png](data:image/png;base64,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)"
      ],
      "metadata": {
        "id": "N2QllnYQ5Rnz"
      }
    },
    {
      "cell_type": "code",
      "source": [
        "def converter_temperatura(temperatura_celsius):\n",
        "  temperatura_fahrenheit = (temperatura_celsius * 9/5) + 32\n",
        "  return temperatura_fahrenheit\n"
      ],
      "metadata": {
        "id": "JTw5hxZo8OVK"
      },
      "execution_count": null,
      "outputs": []
    },
    {
      "cell_type": "code",
      "source": [
        "temperatura_celsius = float(input('Digite a temperatura em Celsius: '))\n",
        "print(f'A temperatura em Fahrenheit é: {converter_temperatura(temperatura_celsius)}')"
      ],
      "metadata": {
        "colab": {
          "base_uri": "https://localhost:8080/"
        },
        "id": "rnzfZheaXDKk",
        "outputId": "b712fab5-2df8-4105-8ada-d7e6586fdce6"
      },
      "execution_count": null,
      "outputs": [
        {
          "output_type": "stream",
          "name": "stdout",
          "text": [
            "Digite a temperatura em Celsius: 30\n",
            "A temperatura em Fahrenheit é: 86.0\n"
          ]
        }
      ]
    },
    {
      "cell_type": "markdown",
      "source": [
        "Exercício 3\n",
        "\n",
        "Você está desenvolvendo um sistema para uma loja que oferece um desconto progressivo com base no valor total das compras. A loja aplica descontos conforme a tabela abaixo:\n",
        "\n",
        "- Para compras de até R$100,00: 5% de desconto.\n",
        "\n",
        "- Para compras entre 100,01 e R$500,00: 10% de desconto.\n",
        "\n",
        "- Para compras acima de R$500,00: 15% de desconto.\n",
        "\n",
        "Crie uma função que receba o valor total da compra e retorne o valor final após aplicar o desconto correspondente. Além disso, a função deve retornar o valor do desconto aplicado.\n",
        "\n",
        "![image.png](data:image/png;base64,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)"
      ],
      "metadata": {
        "id": "SDYpXrlV5uYo"
      }
    },
    {
      "cell_type": "code",
      "source": [
        "def calcular_desconto(valor_total):\n",
        "  if valor_total <= 100:\n",
        "    desconto = valor_total * 0.05\n",
        "  elif valor_total <= 500:\n",
        "    desconto = valor_total * 0.1\n",
        "  else:\n",
        "    desconto = valor_total * 0.15\n",
        "  return desconto\n"
      ],
      "metadata": {
        "id": "d1OZtLkd8PKi"
      },
      "execution_count": null,
      "outputs": []
    },
    {
      "cell_type": "code",
      "source": [
        "valor_total = float(input('Digite o valor total da compra: R$'))\n",
        "\n",
        "print(f'O valor do desconto é: R${calcular_desconto(valor_total)}')\n",
        "\n",
        "valor_com_desconto = valor_total - calcular_desconto(valor_total)\n",
        "\n",
        "print(f'O valor total com desconto é: R${valor_com_desconto}')"
      ],
      "metadata": {
        "colab": {
          "base_uri": "https://localhost:8080/"
        },
        "id": "ggLL27zrXNjk",
        "outputId": "fd8a7dde-3de4-45ec-d677-a81784786791"
      },
      "execution_count": null,
      "outputs": [
        {
          "output_type": "stream",
          "name": "stdout",
          "text": [
            "Digite o valor total da compra: R$250\n",
            "O valor do desconto é: R$25.0\n",
            "O valor total com desconto é: R$225.0\n"
          ]
        }
      ]
    },
    {
      "cell_type": "markdown",
      "source": [
        "Exercício 4\n",
        "\n",
        "Você está desenvolvendo um sistema para calcular o salário líquido de um funcionário, levando em consideração o salário base, um bônus anual e descontos de impostos e seguridade social.\n",
        "\n",
        "As regras são as seguintes:\n",
        "\n",
        " - Salário Base: O salário base mensal do funcionário.\n",
        " - Bônus Anual: Um valor adicional recebido anualmente.\n",
        " - Imposto: 12% do salário base.\n",
        " - Seguridade Social: 8% do salário base.\n",
        " - O bônus é distribuído igualmente ao longo dos 12 meses do ano e adicionado ao salário base mensal.\n",
        "\n",
        "Crie uma função que receba o salário base, o bônus anual, e retorne o salário líquido mensal do funcionário após aplicar os impostos e descontos.\n",
        "\n",
        "![image.png](data:image/png;base64,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)"
      ],
      "metadata": {
        "id": "vklE-weA66W0"
      }
    },
    {
      "cell_type": "code",
      "source": [
        "def calcular_salario_liquido(salario_base, bonus_anual):\n",
        "  bonus_mensal = bonus_anual / 12\n",
        "  imposto = salario_base * 0.12\n",
        "  seguridade_social = salario_base * 0.08\n",
        "  salario_liquido = salario_base + bonus_mensal - imposto - seguridade_social\n",
        "  return salario_liquido"
      ],
      "metadata": {
        "id": "M9FCHcfP8P_S"
      },
      "execution_count": null,
      "outputs": []
    },
    {
      "cell_type": "code",
      "source": [
        "salario_base = float(input('Digite o salário base: '))\n",
        "bonus_anual = float(input('Digite o bônus anual: '))\n",
        "salario_liquido = calcular_salario_liquido(salario_base, bonus_anual)\n",
        "print(f'O salário líquido é de R${salario_liquido:.2f}')"
      ],
      "metadata": {
        "colab": {
          "base_uri": "https://localhost:8080/"
        },
        "id": "0WcgJvrXdBT8",
        "outputId": "780ec24b-6d27-468a-faf3-58fb9c39c921"
      },
      "execution_count": null,
      "outputs": [
        {
          "output_type": "stream",
          "name": "stdout",
          "text": [
            "Digite o salário base: 4500\n",
            "Digite o bônus anual: 12000\n",
            "O salário líquido é de R$4600.00\n"
          ]
        }
      ]
    },
    {
      "cell_type": "markdown",
      "source": [
        "Exercício 5\n",
        "\n",
        "Você está desenvolvendo um sistema para ajudar um usuário a planejar o custo de uma viagem. O sistema deve calcular o custo total da viagem com base no custo diário de hospedagem, no custo diário de alimentação e no número de dias da viagem. Além disso, o sistema deve adicionar um valor extra para imprevistos que é uma porcentagem do custo total da viagem.\n",
        "\n",
        "As regras são as seguintes:\n",
        "\n",
        " - Custo Diário de Hospedagem: O custo por dia para se hospedar.\n",
        " - Custo Diário de Alimentação: O custo por dia para alimentação.\n",
        " - Número de Dias: O total de dias que a viagem vai durar.\n",
        " - Imprevistos: 5% do custo total da viagem.\n",
        "\n",
        "\n",
        "Crie uma função que receba o custo diário de hospedagem, o custo diário de alimentação e o número de dias da viagem, e retorne o custo total da viagem após adicionar o valor para imprevistos.\n",
        "\n",
        "\n",
        "![image.png](data:image/png;base64,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)"
      ],
      "metadata": {
        "id": "6rFCK_Z-75xG"
      }
    },
    {
      "cell_type": "code",
      "source": [
        "def calcular_custo_viagem(custo_hospedagem, custo_alimentacao, num_dias):\n",
        "  custo_total = (custo_hospedagem + custo_alimentacao) * num_dias\n",
        "  imprevistos = custo_total * 0.05\n",
        "  custo_final = custo_total + imprevistos\n",
        "  return custo_final\n",
        "\n"
      ],
      "metadata": {
        "id": "E79oHcPe8Q-S"
      },
      "execution_count": null,
      "outputs": []
    },
    {
      "cell_type": "code",
      "source": [
        "custo_hospedagem = float(input('Digite o custo de hospedagem: '))\n",
        "custo_alimentacao = float(input('Digite o custo de alimentação: '))\n",
        "num_dias = int(input('Digite o número de dias: '))\n",
        "\n",
        "custo_final = calcular_custo_viagem(custo_hospedagem, custo_alimentacao, num_dias)\n",
        "print('O custo final da viagem é: R$', custo_final)"
      ],
      "metadata": {
        "colab": {
          "base_uri": "https://localhost:8080/"
        },
        "id": "O8TuMvp1dpCI",
        "outputId": "dfec2431-631d-4a6b-efa1-647e8d74fdda"
      },
      "execution_count": null,
      "outputs": [
        {
          "output_type": "stream",
          "name": "stdout",
          "text": [
            "Digite o custo de hospedagem: 300\n",
            "Digite o custo de alimentação: 200\n",
            "Digite o número de dias: 15\n",
            "O custo final da viagem é: R$ 7875.0\n"
          ]
        }
      ]
    }
  ]
}